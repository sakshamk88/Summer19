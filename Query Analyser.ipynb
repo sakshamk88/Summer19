{
 "cells": [
  {
   "cell_type": "code",
   "execution_count": 99,
   "metadata": {},
   "outputs": [],
   "source": [
    "from bs4 import BeautifulSoup\n",
    "import requests\n",
    "\n",
    "from googlesearch import search\n",
    "import re\n",
    "\n",
    "import numpy as np"
   ]
  },
  {
   "cell_type": "code",
   "execution_count": 100,
   "metadata": {},
   "outputs": [],
   "source": [
    "import pandas as pd\n",
    "\n",
    "df = pd.DataFrame(columns=['Query','URL','Solution'])"
   ]
  },
  {
   "cell_type": "code",
   "execution_count": 101,
   "metadata": {},
   "outputs": [
    {
     "name": "stdout",
     "output_type": "stream",
     "text": [
      "Enter querycommand not found\n",
      "https://www.cyberciti.biz/faq/linux-unix-command-not-found-error-and-how-to-get-rid-of-it/\n",
      "http://osxdaily.com/2018/05/24/command-not-found-mac-terminal-error-fix/\n",
      "https://askubuntu.com/questions/186808/every-command-fails-with-command-not-found-after-changing-bash-profile\n",
      "https://askubuntu.com/questions/1126511/command-not-found-error-in-bash-script\n",
      "https://askubuntu.com/questions/1123721/hello-sh-line-3-10-command-not-found\n",
      "https://askubuntu.com/questions/1004373/running-a-program-from-terminal-command-not-found\n",
      "https://askubuntu.com/questions/898404/command-not-found-dollar-sign\n",
      "https://docs.oracle.com/cd/E19120-01/open.solaris/819-2380/tsfileaccess-95658/index.html\n",
      "https://www.oreilly.com/library/view/wyntk-unix-system/1565921046/ch03s02.html\n",
      "https://stackoverflow.com/questions/23065722/error-command-not-found-bash-script/23066044\n"
     ]
    }
   ],
   "source": [
    "lst = []\n",
    "lst1 = input(\"Enter query\")\n",
    "for i in search(lst1,tld=\"com\",num=1,stop=10,pause=1):\n",
    "    lst.append(i)\n",
    "    print(i)\n",
    "    "
   ]
  },
  {
   "cell_type": "code",
   "execution_count": null,
   "metadata": {},
   "outputs": [],
   "source": []
  },
  {
   "cell_type": "code",
   "execution_count": 105,
   "metadata": {},
   "outputs": [
    {
     "name": "stdout",
     "output_type": "stream",
     "text": [
      "Solution\n",
      "['Solution']\n"
     ]
    }
   ],
   "source": [
    "var = np.asarray(df['Query'])\n",
    "if lst1 in var:\n",
    "    result = firebase.get('A'+str(j),None)\n",
    "    print('Solution')\n",
    "    print(['Solution'])\n",
    "else:\n",
    "\n",
    "    for i in lst:\n",
    "        if re.findall(r\"^https://stackoverflow.com/\",i):\n",
    "            r = requests.get(i)\n",
    "            dt = r.text\n",
    "            soup = BeautifulSoup(dt,'lxml')    \n",
    "            data = soup.find_all(\"div\", {\"class\":\"js-accepted-answer-indicator grid--item fc-green-500 ta-center p4\"})\n",
    "            if len(data) != 0:\n",
    "                r1 = requests.get(i)\n",
    "                data1 = r1.text\n",
    "                sp = BeautifulSoup(data1,'lxml')\n",
    "                d = sp.find_all(\"div\", {\"class\":\"post-text\"})\n",
    "                print(\"Solution\")\n",
    "                firebase.put('/','A'+str(j),{'URL': str(i),'Solution':str(d[1].get_text())})\n",
    "                df = df.append({'Query':lst1,'URL':str(i),'Solution':str(d[1].get_text())},ignore_index=True)\n",
    "                j+=1\n",
    "        "
   ]
  },
  {
   "cell_type": "code",
   "execution_count": 77,
   "metadata": {},
   "outputs": [
    {
     "data": {
      "text/plain": [
       "\"\\nhas_attr is a method that checks if an element has the attribute that you want. class is an attribute, i-stars i-stars--large-3 rating-very-large is its value.\\nfind expects CSS selectors, not class values. So you should instead use html.find('div.i-stars.i-stars--large-3.rating-very-large'). This is because you are looking for a div with all of these classes.\\n\""
      ]
     },
     "execution_count": 77,
     "metadata": {},
     "output_type": "execute_result"
    }
   ],
   "source": [
    "d = sp.find_all(\"div\", {\"class\":\"post-text\"})\n",
    "d[1].get_text()"
   ]
  },
  {
   "cell_type": "code",
   "execution_count": 47,
   "metadata": {},
   "outputs": [],
   "source": [
    "def writeUserData(query, url, solution) :\n",
    "    firebase.database().ref('Query/' + query).set({\n",
    "        Query: query,\n",
    "        URL: url,\n",
    "        Solution : solution\n",
    "              })"
   ]
  },
  {
   "cell_type": "code",
   "execution_count": 51,
   "metadata": {},
   "outputs": [],
   "source": [
    "from firebase import firebase\n",
    "firebase = firebase.FirebaseApplication('https://queryanalyse.firebaseio.com/', None)\n",
    "new_user = 'Saksham Kumar'\n",
    "\n",
    "\n"
   ]
  },
  {
   "cell_type": "code",
   "execution_count": 67,
   "metadata": {},
   "outputs": [
    {
     "name": "stdout",
     "output_type": "stream",
     "text": [
      "{'Solution': 'sdf', 'URL': 'fdsfds'}\n"
     ]
    }
   ],
   "source": [
    "result = firebase.get(str(lst1),None)\n",
    "print(result)"
   ]
  },
  {
   "cell_type": "code",
   "execution_count": null,
   "metadata": {},
   "outputs": [],
   "source": []
  },
  {
   "cell_type": "code",
   "execution_count": 107,
   "metadata": {},
   "outputs": [
    {
     "data": {
      "text/plain": [
       "{'Solution': 'sdf', 'URL': 'fdsfds'}"
      ]
     },
     "execution_count": 107,
     "metadata": {},
     "output_type": "execute_result"
    }
   ],
   "source": [
    "firebase.put('/',str(lst1),{'URL': 'fdsfds','Solution':'sdf'})\n"
   ]
  },
  {
   "cell_type": "code",
   "execution_count": null,
   "metadata": {
    "scrolled": false
   },
   "outputs": [
    {
     "name": "stderr",
     "output_type": "stream",
     "text": [
      "WARNING: Logging before flag parsing goes to stderr.\n",
      "W0522 15:07:48.844561 139906447984448 __init__.py:56] Some hub symbols are not available because TensorFlow version is less than 1.14\n"
     ]
    },
    {
     "name": "stdout",
     "output_type": "stream",
     "text": [
      "WARNING:tensorflow:From /usr/local/lib/python3.6/dist-packages/tensorflow/python/ops/control_flow_ops.py:3632: colocate_with (from tensorflow.python.framework.ops) is deprecated and will be removed in a future version.\n",
      "Instructions for updating:\n",
      "Colocations handled automatically by placer.\n"
     ]
    },
    {
     "name": "stderr",
     "output_type": "stream",
     "text": [
      "W0522 15:07:49.985715 139906447984448 deprecation.py:323] From /usr/local/lib/python3.6/dist-packages/tensorflow/python/ops/control_flow_ops.py:3632: colocate_with (from tensorflow.python.framework.ops) is deprecated and will be removed in a future version.\n",
      "Instructions for updating:\n",
      "Colocations handled automatically by placer.\n"
     ]
    },
    {
     "name": "stdout",
     "output_type": "stream",
     "text": [
      "INFO:tensorflow:Saver not created because there are no variables in the graph to restore\n"
     ]
    },
    {
     "name": "stderr",
     "output_type": "stream",
     "text": [
      "I0522 15:07:51.543769 139906447984448 saver.py:1483] Saver not created because there are no variables in the graph to restore\n"
     ]
    }
   ],
   "source": [
    "import tensorflow as tf\n",
    "import tensorflow_hub as hub\n",
    "import numpy as np\n",
    "\n",
    "module_url = \"https://tfhub.dev/google/universal-sentence-encoder-large/3\" \n",
    "embed = hub.Module(module_url)\n",
    "sentences = [\"Python is a good language\",\"Language a good python is\"]\n",
    "\n",
    "similarity_input_placeholder = tf.placeholder(tf.string, shape=(None))\n",
    "similarity_sentences_encodings = embed(similarity_input_placeholder)\n",
    "\n",
    "with tf.Session() as session:\n",
    "    session.run(tf.global_variables_initializer())\n",
    "    session.run(tf.tables_initializer())\n",
    "    sentences_embeddings = session.run(similarity_sentences_encodings, feed_dict={similarity_input_placeholder: sentences})\n",
    "    similarity = np.inner(sentences_embeddings[0], sentences_embeddings[1])\n",
    "    print(\"Similarity is %s\" % similarity)"
   ]
  },
  {
   "cell_type": "code",
   "execution_count": 1,
   "metadata": {},
   "outputs": [
    {
     "ename": "NameError",
     "evalue": "name 'df' is not defined",
     "output_type": "error",
     "traceback": [
      "\u001b[0;31m---------------------------------------------------------------------------\u001b[0m",
      "\u001b[0;31mNameError\u001b[0m                                 Traceback (most recent call last)",
      "\u001b[0;32m<ipython-input-1-b343f280038c>\u001b[0m in \u001b[0;36m<module>\u001b[0;34m\u001b[0m\n\u001b[0;32m----> 1\u001b[0;31m \u001b[0mdf\u001b[0m \u001b[0;34m=\u001b[0m \u001b[0mdf\u001b[0m\u001b[0;34m.\u001b[0m\u001b[0mappend\u001b[0m\u001b[0;34m(\u001b[0m\u001b[0;34m{\u001b[0m\u001b[0;34m'Query'\u001b[0m\u001b[0;34m:\u001b[0m\u001b[0mlst1\u001b[0m\u001b[0;34m,\u001b[0m\u001b[0;34m'URL'\u001b[0m\u001b[0;34m:\u001b[0m\u001b[0mstr\u001b[0m\u001b[0;34m(\u001b[0m\u001b[0mi\u001b[0m\u001b[0;34m)\u001b[0m\u001b[0;34m,\u001b[0m\u001b[0;34m'Solution'\u001b[0m\u001b[0;34m:\u001b[0m\u001b[0mstr\u001b[0m\u001b[0;34m(\u001b[0m\u001b[0md\u001b[0m\u001b[0;34m[\u001b[0m\u001b[0;36m1\u001b[0m\u001b[0;34m]\u001b[0m\u001b[0;34m.\u001b[0m\u001b[0mget_text\u001b[0m\u001b[0;34m(\u001b[0m\u001b[0;34m)\u001b[0m\u001b[0;34m)\u001b[0m\u001b[0;34m}\u001b[0m\u001b[0;34m,\u001b[0m\u001b[0mignore_index\u001b[0m\u001b[0;34m=\u001b[0m\u001b[0;32mTrue\u001b[0m\u001b[0;34m)\u001b[0m\u001b[0;34m\u001b[0m\u001b[0;34m\u001b[0m\u001b[0m\n\u001b[0m",
      "\u001b[0;31mNameError\u001b[0m: name 'df' is not defined"
     ]
    }
   ],
   "source": [
    "df = df.append({'Query':lst1,'URL':str(i),'Solution':str(d[1].get_text())},ignore_index=True)\n"
   ]
  },
  {
   "cell_type": "code",
   "execution_count": 43,
   "metadata": {},
   "outputs": [
    {
     "data": {
      "text/html": [
       "<div>\n",
       "<style scoped>\n",
       "    .dataframe tbody tr th:only-of-type {\n",
       "        vertical-align: middle;\n",
       "    }\n",
       "\n",
       "    .dataframe tbody tr th {\n",
       "        vertical-align: top;\n",
       "    }\n",
       "\n",
       "    .dataframe thead th {\n",
       "        text-align: right;\n",
       "    }\n",
       "</style>\n",
       "<table border=\"1\" class=\"dataframe\">\n",
       "  <thead>\n",
       "    <tr style=\"text-align: right;\">\n",
       "      <th></th>\n",
       "      <th>Query</th>\n",
       "      <th>URL</th>\n",
       "      <th>Solution</th>\n",
       "    </tr>\n",
       "  </thead>\n",
       "  <tbody>\n",
       "    <tr>\n",
       "      <th>0</th>\n",
       "      <td>find a particular class using python</td>\n",
       "      <td>https://stackoverflow.com/questions/3862310/ho...</td>\n",
       "      <td>\\nNew-style classes (i.e. subclassed from obje...</td>\n",
       "    </tr>\n",
       "    <tr>\n",
       "      <th>1</th>\n",
       "      <td>find a particular class using python</td>\n",
       "      <td>https://stackoverflow.com/questions/396856/cal...</td>\n",
       "      <td>\\nYou can instantiate the class by declaring a...</td>\n",
       "    </tr>\n",
       "    <tr>\n",
       "      <th>2</th>\n",
       "      <td>find a particular class using python</td>\n",
       "      <td>https://stackoverflow.com/questions/40746777/c...</td>\n",
       "      <td>\\nhas_attr is a method that checks if an eleme...</td>\n",
       "    </tr>\n",
       "  </tbody>\n",
       "</table>\n",
       "</div>"
      ],
      "text/plain": [
       "                                  Query  \\\n",
       "0  find a particular class using python   \n",
       "1  find a particular class using python   \n",
       "2  find a particular class using python   \n",
       "\n",
       "                                                 URL  \\\n",
       "0  https://stackoverflow.com/questions/3862310/ho...   \n",
       "1  https://stackoverflow.com/questions/396856/cal...   \n",
       "2  https://stackoverflow.com/questions/40746777/c...   \n",
       "\n",
       "                                            Solution  \n",
       "0  \\nNew-style classes (i.e. subclassed from obje...  \n",
       "1  \\nYou can instantiate the class by declaring a...  \n",
       "2  \\nhas_attr is a method that checks if an eleme...  "
      ]
     },
     "execution_count": 43,
     "metadata": {},
     "output_type": "execute_result"
    }
   ],
   "source": [
    "df"
   ]
  },
  {
   "cell_type": "code",
   "execution_count": null,
   "metadata": {},
   "outputs": [],
   "source": []
  }
 ],
 "metadata": {
  "kernelspec": {
   "display_name": "Python 3",
   "language": "python",
   "name": "python3"
  },
  "language_info": {
   "codemirror_mode": {
    "name": "ipython",
    "version": 3
   },
   "file_extension": ".py",
   "mimetype": "text/x-python",
   "name": "python",
   "nbconvert_exporter": "python",
   "pygments_lexer": "ipython3",
   "version": "3.6.7"
  }
 },
 "nbformat": 4,
 "nbformat_minor": 2
}
