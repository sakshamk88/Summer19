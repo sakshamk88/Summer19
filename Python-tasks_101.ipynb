{
 "cells": [
  {
   "cell_type": "code",
   "execution_count": null,
   "metadata": {
    "scrolled": false
   },
   "outputs": [],
   "source": [
    "import   webbrowser   #  to deal with  web browser\n",
    "from googlesearch import search\n",
    "\n",
    "# taking input from the user\n",
    "lst = list(input(\"Enter search elements seprated by , :\").split(\",\"))\n",
    "lst2 = []\n",
    "#  searching object \n",
    "for  i  in  lst:\n",
    "    lst1 = []\n",
    "    #  write code here to google search \n",
    "    webbrowser.open_new_tab(\"https://www.google.com/search?q=\"+i)\n",
    "    \n",
    "    #loop to searsc top 5 variables of every tab opened\n",
    "    for j in search(i,tld=\"co.in\",num=1,stop=5,pause=2):\n",
    "        lst1.append(j)\n",
    "    # creating a lis of urls searched\n",
    "    lst2.append(lst1)\n",
    "print(lst2)\n",
    "    "
   ]
  },
  {
   "cell_type": "code",
   "execution_count": null,
   "metadata": {},
   "outputs": [],
   "source": []
  },
  {
   "cell_type": "code",
   "execution_count": null,
   "metadata": {},
   "outputs": [],
   "source": []
  },
  {
   "cell_type": "code",
   "execution_count": null,
   "metadata": {},
   "outputs": [],
   "source": []
  }
 ],
 "metadata": {
  "kernelspec": {
   "display_name": "Python 3",
   "language": "python",
   "name": "python3"
  },
  "language_info": {
   "codemirror_mode": {
    "name": "ipython",
    "version": 3
   },
   "file_extension": ".py",
   "mimetype": "text/x-python",
   "name": "python",
   "nbconvert_exporter": "python",
   "pygments_lexer": "ipython3",
   "version": "3.6.7"
  }
 },
 "nbformat": 4,
 "nbformat_minor": 2
}
